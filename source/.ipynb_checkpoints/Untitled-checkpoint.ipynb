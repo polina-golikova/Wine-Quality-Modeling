{
 "cells": [
  {
   "cell_type": "code",
   "execution_count": null,
   "id": "5d1e50e3",
   "metadata": {},
   "outputs": [],
   "source": [
    "import numpy as np\n",
    "import matplotlib.pyplot as plt\n",
    "from mpl_toolkits.mplot3d import Axes3D\n",
    "\n",
    "def f(x):\n",
    "    return 0.608 * x[0] - 0.00380 * x[1] + 0.00115 * x[2] + 0.00765 * x[3]\n",
    "\n",
    "# Define the constraints for each variable\n",
    "x0_min = 0\n",
    "x0_max = 10\n",
    "x1_min = 0\n",
    "x1_max = 10\n",
    "x2_min = 0\n",
    "x2_max = 10\n",
    "x3_min = 0\n",
    "x3_max = 10\n",
    "\n",
    "# Generate grid points within the constraint boundaries\n",
    "x0 = np.linspace(x0_min, x0_max, 100)\n",
    "x1 = np.linspace(x1_min, x1_max, 100)\n",
    "x2 = np.linspace(x2_min, x2_max, 100)\n",
    "x3 = np.linspace(x3_min, x3_max, 100)\n",
    "\n",
    "X0, X1, X2, X3 = np.meshgrid(x0, x1, x2, x3)\n",
    "\n",
    "# Calculate the function value for each point in the grid\n",
    "Z = f([X0, X1, X2, X3])\n",
    "\n",
    "# Create a 3D plot\n",
    "fig = plt.figure()\n",
    "ax = fig.add_subplot(111, projection='3d')\n",
    "\n",
    "# Plot the feasible region\n",
    "ax.scatter(X0[Z >= 0], X1[Z >= 0], X2[Z >= 0], color='b', alpha=0.5, label='Feasible Region')\n",
    "\n",
    "# Set labels and title\n",
    "ax.set_xlabel('x[0]')\n",
    "ax.set_ylabel('x[1]')\n",
    "ax.set_zlabel('x[2]')\n",
    "ax.set_title('Feasible Region')\n",
    "\n",
    "# Show the plot\n",
    "plt.show()\n"
   ]
  },
  {
   "cell_type": "code",
   "execution_count": null,
   "id": "9d4af6c2",
   "metadata": {},
   "outputs": [],
   "source": []
  }
 ],
 "metadata": {
  "kernelspec": {
   "display_name": "Python 3 (ipykernel)",
   "language": "python",
   "name": "python3"
  },
  "language_info": {
   "codemirror_mode": {
    "name": "ipython",
    "version": 3
   },
   "file_extension": ".py",
   "mimetype": "text/x-python",
   "name": "python",
   "nbconvert_exporter": "python",
   "pygments_lexer": "ipython3",
   "version": "3.10.1"
  }
 },
 "nbformat": 4,
 "nbformat_minor": 5
}
